{
 "cells": [
  {
   "cell_type": "markdown",
   "metadata": {
    "id": "KFA3wFCUVQV6"
   },
   "source": [
    "# Mandate-3 Contribution"
   ]
  },
  {
   "cell_type": "markdown",
   "metadata": {
    "id": "d6hR72j8VVwU"
   },
   "source": [
    "Group Members: Chandrahas Sai(IMT2019019) Kopparapu SaiKrishna(IMT201945)"
   ]
  },
  {
   "cell_type": "markdown",
   "metadata": {
    "id": "fsWKqKZcTWm9"
   },
   "source": [
    "## Likert-Scale Rating"
   ]
  },
  {
   "cell_type": "markdown",
   "metadata": {
    "id": "joLZp8BfTWnC"
   },
   "source": [
    "CO1: \\*\\*      \n",
    "CO2: \\*\\*\\*      \n",
    "CO3: \\*\\*\\*      \n",
    "CO4: \\*\\*\\\n",
    "CO5: \\*\\*\\*\\*\\\n",
    "CO6: "
   ]
  },
  {
   "cell_type": "markdown",
   "metadata": {
    "id": "UPcwInrDVCbF"
   },
   "source": [
    "In this mandate contribution, first we created the encoder, decoder inputs using pad_sequence function in keras module and then we created a training model using lstm. For creating the lstm model we used keras.models and keras.layers libraries. We then performed model fitting using model.fit(). We trained our model for 50 epochs.\n"
   ]
  },
  {
   "cell_type": "markdown",
   "metadata": {
    "id": "4DmYBnjdTWnD"
   },
   "source": [
    "## Functions to print few items present in lists and dictionaries"
   ]
  },
  {
   "cell_type": "code",
   "execution_count": null,
   "metadata": {
    "execution": {
     "iopub.execute_input": "2022-05-12T16:03:29.833344Z",
     "iopub.status.busy": "2022-05-12T16:03:29.832237Z",
     "iopub.status.idle": "2022-05-12T16:03:29.841001Z",
     "shell.execute_reply": "2022-05-12T16:03:29.839467Z",
     "shell.execute_reply.started": "2022-05-12T16:03:29.833290Z"
    },
    "id": "sHu4E3vETWnD"
   },
   "outputs": [],
   "source": [
    "def list_head(l):\n",
    "    for i in range(5):\n",
    "        print(l[i])\n",
    "        print(\" \")\n",
    "    \n",
    "    print(\"--------------------------------------------------------------------------------- \")\n",
    "    print(\" \")\n",
    "        \n",
    "def dict_head(d):\n",
    "    dl = list(d.items())\n",
    "    for i in range(5):\n",
    "        print(dl[i])\n",
    "        print(\" \")\n",
    "    \n",
    "    print(\"--------------------------------------------------------------------------------- \")\n",
    "    print(\" \")\n"
   ]
  },
  {
   "cell_type": "markdown",
   "metadata": {
    "id": "WjWYu2V4TWnE"
   },
   "source": [
    "## Importing libraries"
   ]
  },
  {
   "cell_type": "code",
   "execution_count": null,
   "metadata": {
    "execution": {
     "iopub.execute_input": "2022-05-12T16:03:29.844355Z",
     "iopub.status.busy": "2022-05-12T16:03:29.843616Z",
     "iopub.status.idle": "2022-05-12T16:03:31.128959Z",
     "shell.execute_reply": "2022-05-12T16:03:31.127776Z",
     "shell.execute_reply.started": "2022-05-12T16:03:29.844302Z"
    },
    "id": "4FAJ4quSTWnF",
    "scrolled": true
   },
   "outputs": [],
   "source": [
    "import numpy as np\n",
    "import tensorflow as tf\n",
    "import re\n",
    "import time\n",
    "import pandas as pd\n",
    "from tqdm import tqdm\n",
    "import nltk\n",
    "from nltk.corpus import stopwords"
   ]
  },
  {
   "cell_type": "markdown",
   "metadata": {
    "id": "TSYX0dJlTWnF"
   },
   "source": [
    "## Importing data sets."
   ]
  },
  {
   "cell_type": "code",
   "execution_count": null,
   "metadata": {
    "execution": {
     "iopub.execute_input": "2022-05-12T16:03:31.131092Z",
     "iopub.status.busy": "2022-05-12T16:03:31.130828Z",
     "iopub.status.idle": "2022-05-12T16:03:31.479249Z",
     "shell.execute_reply": "2022-05-12T16:03:31.477644Z",
     "shell.execute_reply.started": "2022-05-12T16:03:31.131058Z"
    },
    "id": "Adt8gmPNTWnG",
    "outputId": "626b2850-f5eb-4745-a3b8-2ad3cab1157a"
   },
   "outputs": [
    {
     "name": "stdout",
     "output_type": "stream",
     "text": [
      "304714\n",
      "83098\n"
     ]
    }
   ],
   "source": [
    "data = open('Dataset/movie_lines.txt', encoding = 'utf-8', errors = 'ignore').read().split('\\n')\n",
    "exchanges = open('Dataset/movie_conversations.txt', encoding = 'utf-8', errors = 'ignore').read().split('\\n')\n",
    "\n",
    "\n",
    "print(len(data))\n",
    "print(len(exchanges))"
   ]
  },
  {
   "cell_type": "code",
   "execution_count": null,
   "metadata": {
    "execution": {
     "iopub.execute_input": "2022-05-12T16:03:31.482043Z",
     "iopub.status.busy": "2022-05-12T16:03:31.481288Z",
     "iopub.status.idle": "2022-05-12T16:03:31.490778Z",
     "shell.execute_reply": "2022-05-12T16:03:31.488856Z",
     "shell.execute_reply.started": "2022-05-12T16:03:31.481977Z"
    },
    "id": "SDtM3vkuTWnH",
    "outputId": "f791b0e1-fdb9-41c7-8d8a-e2afc33b1f87"
   },
   "outputs": [
    {
     "name": "stdout",
     "output_type": "stream",
     "text": [
      "L1045 +++$+++ u0 +++$+++ m0 +++$+++ BIANCA +++$+++ They do not!\n",
      " \n",
      "L1044 +++$+++ u2 +++$+++ m0 +++$+++ CAMERON +++$+++ They do to!\n",
      " \n",
      "L985 +++$+++ u0 +++$+++ m0 +++$+++ BIANCA +++$+++ I hope so.\n",
      " \n",
      "L984 +++$+++ u2 +++$+++ m0 +++$+++ CAMERON +++$+++ She okay?\n",
      " \n",
      "L925 +++$+++ u0 +++$+++ m0 +++$+++ BIANCA +++$+++ Let's go.\n",
      " \n",
      "--------------------------------------------------------------------------------- \n",
      " \n"
     ]
    }
   ],
   "source": [
    "list_head(data)"
   ]
  },
  {
   "cell_type": "code",
   "execution_count": null,
   "metadata": {
    "execution": {
     "iopub.execute_input": "2022-05-12T16:03:31.493017Z",
     "iopub.status.busy": "2022-05-12T16:03:31.492729Z",
     "iopub.status.idle": "2022-05-12T16:03:31.505014Z",
     "shell.execute_reply": "2022-05-12T16:03:31.504294Z",
     "shell.execute_reply.started": "2022-05-12T16:03:31.492982Z"
    },
    "id": "OxYLn9CKTWnI",
    "outputId": "f08b1cbe-cd51-447e-f749-74502fe1d4b0"
   },
   "outputs": [
    {
     "name": "stdout",
     "output_type": "stream",
     "text": [
      "u0 +++$+++ u2 +++$+++ m0 +++$+++ ['L194', 'L195', 'L196', 'L197']\n",
      " \n",
      "u0 +++$+++ u2 +++$+++ m0 +++$+++ ['L198', 'L199']\n",
      " \n",
      "u0 +++$+++ u2 +++$+++ m0 +++$+++ ['L200', 'L201', 'L202', 'L203']\n",
      " \n",
      "u0 +++$+++ u2 +++$+++ m0 +++$+++ ['L204', 'L205', 'L206']\n",
      " \n",
      "u0 +++$+++ u2 +++$+++ m0 +++$+++ ['L207', 'L208']\n",
      " \n",
      "--------------------------------------------------------------------------------- \n",
      " \n"
     ]
    }
   ],
   "source": [
    "list_head(exchanges)"
   ]
  },
  {
   "cell_type": "markdown",
   "metadata": {
    "id": "LweneLBpTWnI"
   },
   "source": [
    "## Extracting dictionary of format {line_id: line}"
   ]
  },
  {
   "cell_type": "code",
   "execution_count": null,
   "metadata": {
    "execution": {
     "iopub.execute_input": "2022-05-12T16:03:31.506834Z",
     "iopub.status.busy": "2022-05-12T16:03:31.506576Z",
     "iopub.status.idle": "2022-05-12T16:03:32.037070Z",
     "shell.execute_reply": "2022-05-12T16:03:32.035934Z",
     "shell.execute_reply.started": "2022-05-12T16:03:31.506804Z"
    },
    "id": "CQC9lAkETWnI",
    "outputId": "aeca5b8d-af68-4a36-994d-c309bda610dd"
   },
   "outputs": [
    {
     "name": "stdout",
     "output_type": "stream",
     "text": [
      "('L1045', 'They do not!')\n",
      " \n",
      "('L1044', 'They do to!')\n",
      " \n",
      "('L985', 'I hope so.')\n",
      " \n",
      "('L984', 'She okay?')\n",
      " \n",
      "('L925', \"Let's go.\")\n",
      " \n",
      "--------------------------------------------------------------------------------- \n",
      " \n"
     ]
    }
   ],
   "source": [
    "dict_id_line={}\n",
    "\n",
    "for line in data:\n",
    "    buff = line.split(' +++$+++ ')\n",
    "    if len(buff) == 5:\n",
    "        dict_id_line[buff[0]] = buff[4]\n",
    "\n",
    "dict_head(dict_id_line)\n"
   ]
  },
  {
   "cell_type": "markdown",
   "metadata": {
    "id": "uCwb8a1FTWnJ"
   },
   "source": [
    "## Extracting exchanges lists containg line Ids of lines in the exhanges"
   ]
  },
  {
   "cell_type": "code",
   "execution_count": null,
   "metadata": {
    "execution": {
     "iopub.execute_input": "2022-05-12T16:03:32.038735Z",
     "iopub.status.busy": "2022-05-12T16:03:32.038496Z",
     "iopub.status.idle": "2022-05-12T16:03:32.536549Z",
     "shell.execute_reply": "2022-05-12T16:03:32.535210Z",
     "shell.execute_reply.started": "2022-05-12T16:03:32.038704Z"
    },
    "id": "xs3xKVfgTWnJ",
    "outputId": "2b91ba44-623f-4029-da95-86fb6869d49b"
   },
   "outputs": [
    {
     "name": "stdout",
     "output_type": "stream",
     "text": [
      "['L194', 'L195', 'L196', 'L197']\n",
      " \n",
      "['L198', 'L199']\n",
      " \n",
      "['L200', 'L201', 'L202', 'L203']\n",
      " \n",
      "['L204', 'L205', 'L206']\n",
      " \n",
      "['L207', 'L208']\n",
      " \n",
      "--------------------------------------------------------------------------------- \n",
      " \n"
     ]
    }
   ],
   "source": [
    "exchange_ids = []\n",
    "\n",
    "for exchange in exchanges:\n",
    "    buff_elements = exchange.split(' +++$+++ ')[-1][1:-1]\n",
    "    ids = buff_elements.replace(\"'\", \"\").replace(\" \", \"\") # avoiding list within a list using [1:-1]\n",
    "    \n",
    "    exchange_ids.append(ids.split(','))\n",
    "\n",
    "\n",
    "list_head(exchange_ids)"
   ]
  },
  {
   "cell_type": "markdown",
   "metadata": {
    "id": "S2kXaVIoTWnJ"
   },
   "source": [
    "## Generating Q&A from  list of exchange_ids "
   ]
  },
  {
   "cell_type": "code",
   "execution_count": null,
   "metadata": {
    "execution": {
     "iopub.execute_input": "2022-05-12T16:03:32.538714Z",
     "iopub.status.busy": "2022-05-12T16:03:32.538389Z",
     "iopub.status.idle": "2022-05-12T16:03:32.903090Z",
     "shell.execute_reply": "2022-05-12T16:03:32.901935Z",
     "shell.execute_reply.started": "2022-05-12T16:03:32.538681Z"
    },
    "id": "_DYBb-X8TWnK",
    "outputId": "023bf11d-1ad5-4ae4-e6a8-2f5215dc5415"
   },
   "outputs": [
    {
     "name": "stdout",
     "output_type": "stream",
     "text": [
      "Can we make this quick?  Roxanne Korrine and Andrew Barrett are having an incredibly horrendous public break- up on the quad.  Again.\n",
      " \n",
      "Well, I thought we'd start with pronunciation, if that's okay with you.\n",
      " \n",
      "Not the hacking and gagging and spitting part.  Please.\n",
      " \n",
      "You're asking me out.  That's so cute. What's your name again?\n",
      " \n",
      "No, no, it's my fault -- we didn't have a proper introduction ---\n",
      " \n",
      "--------------------------------------------------------------------------------- \n",
      " \n",
      "\n",
      "\n",
      "Well, I thought we'd start with pronunciation, if that's okay with you.\n",
      " \n",
      "Not the hacking and gagging and spitting part.  Please.\n",
      " \n",
      "Okay... then how 'bout we try out some French cuisine.  Saturday?  Night?\n",
      " \n",
      "Forget it.\n",
      " \n",
      "Cameron.\n",
      " \n",
      "--------------------------------------------------------------------------------- \n",
      " \n"
     ]
    }
   ],
   "source": [
    "all_questions = []\n",
    "all_answers = []\n",
    "for exchange in exchange_ids:\n",
    "    l = len(exchange)-1\n",
    "    i=0\n",
    "    while(i<l):\n",
    "        all_questions.append(dict_id_line[exchange[i]])\n",
    "        all_answers.append(dict_id_line[exchange[i+1]])\n",
    "        i+=1\n",
    "list_head(all_questions)\n",
    "print(\"\")\n",
    "print(\"\")\n",
    "list_head(all_answers)\n"
   ]
  },
  {
   "cell_type": "code",
   "execution_count": null,
   "metadata": {
    "execution": {
     "iopub.execute_input": "2022-05-12T16:03:32.905195Z",
     "iopub.status.busy": "2022-05-12T16:03:32.904844Z",
     "iopub.status.idle": "2022-05-12T16:03:32.915120Z",
     "shell.execute_reply": "2022-05-12T16:03:32.914323Z",
     "shell.execute_reply.started": "2022-05-12T16:03:32.905142Z"
    },
    "id": "2xdv_AQvTWnK",
    "outputId": "5c4ba21c-6c4c-45db-9170-7a5efb998f90"
   },
   "outputs": [
    {
     "data": {
      "text/plain": [
       "221616"
      ]
     },
     "execution_count": 9,
     "metadata": {},
     "output_type": "execute_result"
    }
   ],
   "source": [
    "len(all_answers)"
   ]
  },
  {
   "cell_type": "code",
   "execution_count": null,
   "metadata": {
    "execution": {
     "iopub.execute_input": "2022-05-12T16:03:32.916714Z",
     "iopub.status.busy": "2022-05-12T16:03:32.916477Z",
     "iopub.status.idle": "2022-05-12T16:03:33.004205Z",
     "shell.execute_reply": "2022-05-12T16:03:33.003090Z",
     "shell.execute_reply.started": "2022-05-12T16:03:32.916684Z"
    },
    "id": "F0qlv4oDTWnK"
   },
   "outputs": [],
   "source": [
    "questions = []\n",
    "answers = []\n",
    "for i in range(len(all_questions)):\n",
    "    if len(all_questions[i]) < 15:\n",
    "        questions.append(all_questions[i])\n",
    "        answers.append(all_answers[i])"
   ]
  },
  {
   "cell_type": "code",
   "execution_count": null,
   "metadata": {
    "execution": {
     "iopub.execute_input": "2022-05-12T16:03:33.010281Z",
     "iopub.status.busy": "2022-05-12T16:03:33.009379Z",
     "iopub.status.idle": "2022-05-12T16:03:33.017862Z",
     "shell.execute_reply": "2022-05-12T16:03:33.017244Z",
     "shell.execute_reply.started": "2022-05-12T16:03:33.010201Z"
    },
    "id": "RkVjeRzGTWnL",
    "outputId": "69176198-9480-4535-9155-11bd538d5c41"
   },
   "outputs": [
    {
     "data": {
      "text/plain": [
       "39059"
      ]
     },
     "execution_count": 11,
     "metadata": {},
     "output_type": "execute_result"
    }
   ],
   "source": [
    "len(questions)"
   ]
  },
  {
   "cell_type": "markdown",
   "metadata": {
    "id": "roDdT6hHTWnL"
   },
   "source": [
    "## Cleaning the text and handling case sensitivity in questions and answers"
   ]
  },
  {
   "cell_type": "code",
   "execution_count": null,
   "metadata": {
    "execution": {
     "iopub.execute_input": "2022-05-12T16:03:33.019917Z",
     "iopub.status.busy": "2022-05-12T16:03:33.019082Z",
     "iopub.status.idle": "2022-05-12T16:03:33.057653Z",
     "shell.execute_reply": "2022-05-12T16:03:33.056811Z",
     "shell.execute_reply.started": "2022-05-12T16:03:33.019878Z"
    },
    "id": "gEJNIy-cTWnL"
   },
   "outputs": [],
   "source": [
    "def clean_text(text):\n",
    "    text = text.lower()\n",
    "    text = re.sub(r\"i'm\", \"i am\", text)\n",
    "    text = re.sub(r\"he's\", \"he is\", text)\n",
    "    text = re.sub(r\"she's\", \"she is\", text)\n",
    "    text = re.sub(r\"that's\", \"that is\", text)\n",
    "    text = re.sub(r\"what's\", \"what is\", text)\n",
    "    text = re.sub(r\"where's\", \"where is\", text)\n",
    "    text = re.sub(r\"\\'ll\", \" will\", text)\n",
    "    text = re.sub(r\"\\'ve\", \" have\", text)\n",
    "    text = re.sub(r\"\\'re\", \" are\", text)\n",
    "    text = re.sub(r\"\\'d\", \" would\", text)\n",
    "    text = re.sub(r\"won't\", \"will not\", text)\n",
    "    text = re.sub(r\"can't\", \"cannot\", text)\n",
    "    text = re.sub(r\"\\.\", \" . \", text)\n",
    "    text = re.sub(r\"\\?\", \" ? \", text)\n",
    "    text = re.sub(r\"!\", \" ! \", text)\n",
    "    text = re.sub(r\"/\", \" / \", text)\n",
    "    text = re.sub(r\",\", \" , \", text)\n",
    "    text = re.sub(r'\"', ' \" ', text)\n",
    "    text = re.sub(r\"-\", \" - \", text)\n",
    "    \n",
    "    \n",
    "\n",
    "    text = re.sub(r\"[-()\\\"#/@;:<>{}+=~|.?,]\", \"\", text)\n",
    "    text = re.sub(' +', ' ', text)\n",
    "    return text\n"
   ]
  },
  {
   "cell_type": "code",
   "execution_count": null,
   "metadata": {
    "execution": {
     "iopub.execute_input": "2022-05-12T16:03:33.061419Z",
     "iopub.status.busy": "2022-05-12T16:03:33.059488Z",
     "iopub.status.idle": "2022-05-12T16:03:35.523038Z",
     "shell.execute_reply": "2022-05-12T16:03:35.520578Z",
     "shell.execute_reply.started": "2022-05-12T16:03:33.061339Z"
    },
    "id": "owGdosTDTWnL",
    "outputId": "bd8df7f2-a0b9-4573-d404-aa5f90d06d76"
   },
   "outputs": [
    {
     "name": "stdout",
     "output_type": "stream",
     "text": [
      "cameron \n",
      " \n",
      "why \n",
      " \n",
      "there \n",
      " \n",
      "sure have \n",
      " \n",
      "she is not a \n",
      " \n",
      "--------------------------------------------------------------------------------- \n",
      " \n",
      " \n",
      " \n",
      "the thing is cameron i am at the mercy of a particularly hideous breed of loser my sister i cannot date until she does \n",
      " \n",
      "unsolved mystery she used to be really popular when she started high school then it was just like she got sick of it or something \n",
      " \n",
      "where \n",
      " \n",
      "i really really really wanna go but i cannot not unless my sister goes \n",
      " \n",
      "lesbian no i found a picture of jared leto in one of her drawers so i am pretty sure she is not harboring same sex tendencies \n",
      " \n",
      "--------------------------------------------------------------------------------- \n",
      " \n"
     ]
    }
   ],
   "source": [
    "clean_questions = []\n",
    "for question in questions:\n",
    "    clean_questions.append(clean_text(question))\n",
    "    \n",
    "clean_answers = []\n",
    "for answer in answers:\n",
    "    clean_answers.append(clean_text(answer))\n",
    "\n",
    "list_head(clean_questions)\n",
    "print(\" \")\n",
    "print(\" \")\n",
    "list_head(clean_answers)\n"
   ]
  },
  {
   "cell_type": "code",
   "execution_count": null,
   "metadata": {
    "execution": {
     "iopub.execute_input": "2022-05-12T16:03:35.524865Z",
     "iopub.status.busy": "2022-05-12T16:03:35.524577Z",
     "iopub.status.idle": "2022-05-12T16:03:35.532846Z",
     "shell.execute_reply": "2022-05-12T16:03:35.531581Z",
     "shell.execute_reply.started": "2022-05-12T16:03:35.524828Z"
    },
    "id": "1MGsO_7WTWnM",
    "outputId": "3a80ec03-d581-4f41-9c56-5f9093076dfb"
   },
   "outputs": [
    {
     "name": "stdout",
     "output_type": "stream",
     "text": [
      "39059\n",
      "39059\n",
      "the thing is cameron i am at the mercy of a particularly hideous breed of loser my sister i cannot date until she does \n",
      " \n",
      "unsolved mystery she used to be really popular when she started high school then it was just like she got sick of it or something \n",
      " \n",
      "where \n",
      " \n",
      "i really really really wanna go but i cannot not unless my sister goes \n",
      " \n",
      "lesbian no i found a picture of jared leto in one of her drawers so i am pretty sure she is not harboring same sex tendencies \n",
      " \n",
      "--------------------------------------------------------------------------------- \n",
      " \n"
     ]
    }
   ],
   "source": [
    "print(len(clean_questions))\n",
    "print(len(clean_answers))\n",
    "list_head(clean_answers)"
   ]
  },
  {
   "cell_type": "code",
   "execution_count": null,
   "metadata": {
    "execution": {
     "iopub.execute_input": "2022-05-12T16:03:35.534878Z",
     "iopub.status.busy": "2022-05-12T16:03:35.534598Z",
     "iopub.status.idle": "2022-05-12T16:03:35.608101Z",
     "shell.execute_reply": "2022-05-12T16:03:35.606848Z",
     "shell.execute_reply.started": "2022-05-12T16:03:35.534843Z"
    },
    "id": "8BrWYuxSTWnM"
   },
   "outputs": [],
   "source": [
    "for i in range(len(clean_answers)):\n",
    "    clean_answers[i] = ' '.join(clean_answers[i].split()[:11])\n"
   ]
  },
  {
   "cell_type": "code",
   "execution_count": null,
   "metadata": {
    "execution": {
     "iopub.execute_input": "2022-05-12T16:03:35.610864Z",
     "iopub.status.busy": "2022-05-12T16:03:35.610566Z",
     "iopub.status.idle": "2022-05-12T16:03:35.615526Z",
     "shell.execute_reply": "2022-05-12T16:03:35.614505Z",
     "shell.execute_reply.started": "2022-05-12T16:03:35.610827Z"
    },
    "id": "g7H57pYxTWnM"
   },
   "outputs": [],
   "source": [
    "# clean_answers=clean_answers[:20000]\n",
    "# clean_questions=clean_questions[:20000]\n"
   ]
  },
  {
   "cell_type": "code",
   "execution_count": null,
   "metadata": {
    "execution": {
     "iopub.execute_input": "2022-05-12T16:03:35.617271Z",
     "iopub.status.busy": "2022-05-12T16:03:35.616964Z",
     "iopub.status.idle": "2022-05-12T16:03:35.635764Z",
     "shell.execute_reply": "2022-05-12T16:03:35.634697Z",
     "shell.execute_reply.started": "2022-05-12T16:03:35.617206Z"
    },
    "id": "gW9fZeiATWnN",
    "outputId": "802dc272-7354-4fd9-d69c-77b8f1139ce2"
   },
   "outputs": [
    {
     "data": {
      "text/plain": [
       "39059"
      ]
     },
     "execution_count": 17,
     "metadata": {},
     "output_type": "execute_result"
    }
   ],
   "source": [
    "len(clean_questions)"
   ]
  },
  {
   "cell_type": "markdown",
   "metadata": {
    "id": "ilGN5cfITWnN"
   },
   "source": [
    "## Calculating frequency of  each word"
   ]
  },
  {
   "cell_type": "code",
   "execution_count": null,
   "metadata": {
    "execution": {
     "iopub.execute_input": "2022-05-12T16:03:35.651963Z",
     "iopub.status.busy": "2022-05-12T16:03:35.651577Z",
     "iopub.status.idle": "2022-05-12T16:03:45.585713Z",
     "shell.execute_reply": "2022-05-12T16:03:45.584502Z",
     "shell.execute_reply.started": "2022-05-12T16:03:35.651929Z"
    },
    "id": "szmBDg0mTWnN",
    "outputId": "ff223f6b-75a1-4c64-daea-33f24214fd23"
   },
   "outputs": [
    {
     "name": "stderr",
     "output_type": "stream",
     "text": [
      "100%|█████████████████████████████████████████████████████████████████████████| 39059/39059 [00:02<00:00, 18859.64it/s]\n",
      "100%|█████████████████████████████████████████████████████████████████████████| 39059/39059 [00:02<00:00, 14931.57it/s]"
     ]
    },
    {
     "name": "stdout",
     "output_type": "stream",
     "text": [
      "('cameron', 12)\n",
      " \n",
      "('why', 1875)\n",
      " \n",
      "('there', 1343)\n",
      " \n",
      "('sure', 778)\n",
      " \n",
      "('have', 2966)\n",
      " \n",
      "--------------------------------------------------------------------------------- \n",
      " \n"
     ]
    },
    {
     "name": "stderr",
     "output_type": "stream",
     "text": [
      "\n"
     ]
    },
    {
     "data": {
      "text/plain": [
       "16900"
      ]
     },
     "execution_count": 18,
     "metadata": {},
     "output_type": "execute_result"
    }
   ],
   "source": [
    "word2count = {}\n",
    "for q in tqdm(clean_questions):\n",
    "    words = nltk.word_tokenize(q)\n",
    "    for word in words :\n",
    "        if word not in word2count.keys():\n",
    "            word2count[word] = 1\n",
    "        else:\n",
    "            word2count[word] += 1\n",
    "\n",
    "for a in tqdm(clean_answers):\n",
    "    words = nltk.word_tokenize(a)\n",
    "    for word in words :\n",
    "        if word not in word2count.keys():\n",
    "            word2count[word] = 1\n",
    "        else:\n",
    "            word2count[word] += 1\n",
    "\n",
    "dict_head(word2count)\n",
    "len(word2count)"
   ]
  },
  {
   "cell_type": "code",
   "execution_count": null,
   "metadata": {
    "execution": {
     "iopub.execute_input": "2022-05-12T16:03:45.588060Z",
     "iopub.status.busy": "2022-05-12T16:03:45.587790Z",
     "iopub.status.idle": "2022-05-12T16:03:45.602501Z",
     "shell.execute_reply": "2022-05-12T16:03:45.600985Z",
     "shell.execute_reply.started": "2022-05-12T16:03:45.588028Z"
    },
    "id": "GAlBZRB-TWnN",
    "outputId": "4df41144-7d7a-47e3-a531-a7669dd19006"
   },
   "outputs": [
    {
     "data": {
      "text/plain": [
       "3729"
      ]
     },
     "execution_count": 19,
     "metadata": {},
     "output_type": "execute_result"
    }
   ],
   "source": [
    "word_id = {}\n",
    "word_num = 0\n",
    "for word, count in word2count.items():\n",
    "    if count>4:\n",
    "        word_id[word] = word_num\n",
    "        word_num += 1\n",
    "len(word_id)"
   ]
  },
  {
   "cell_type": "markdown",
   "metadata": {
    "id": "j5OH6ixXTWnN"
   },
   "source": [
    "## Generating an unique integer to each unique word (including tags).(Syntax processing)"
   ]
  },
  {
   "cell_type": "markdown",
   "metadata": {},
   "source": [
    "word_id is a mapping from word to an id(unique integer)"
   ]
  },
  {
   "cell_type": "code",
   "execution_count": null,
   "metadata": {
    "execution": {
     "iopub.execute_input": "2022-05-12T16:03:45.635877Z",
     "iopub.status.busy": "2022-05-12T16:03:45.635593Z",
     "iopub.status.idle": "2022-05-12T16:03:45.655332Z",
     "shell.execute_reply": "2022-05-12T16:03:45.653629Z",
     "shell.execute_reply.started": "2022-05-12T16:03:45.635835Z"
    },
    "id": "RDY-GJmdTWnQ"
   },
   "outputs": [],
   "source": [
    "tokens = ['<PAD>', '<EOS>', '<NULL>', '<BOS>'] #,'<STOPWORD>']\n",
    "tmp = len(word_id)\n",
    "for token in tokens:\n",
    "    word_id[token] = tmp\n",
    "    tmp += 1"
   ]
  },
  {
   "cell_type": "markdown",
   "metadata": {},
   "source": [
    "inv_word_id is a mapping from previously assigned id to a word both of these share same natural language space(semantic processing)"
   ]
  },
  {
   "cell_type": "code",
   "execution_count": null,
   "metadata": {
    "execution": {
     "iopub.execute_input": "2022-05-12T16:03:45.657315Z",
     "iopub.status.busy": "2022-05-12T16:03:45.657010Z",
     "iopub.status.idle": "2022-05-12T16:03:45.674969Z",
     "shell.execute_reply": "2022-05-12T16:03:45.673606Z",
     "shell.execute_reply.started": "2022-05-12T16:03:45.657277Z"
    },
    "id": "PSAHFVaCTWnQ"
   },
   "outputs": [],
   "source": [
    "inv_word_id = {w:v for v, w in word_id.items()}"
   ]
  },
  {
   "cell_type": "markdown",
   "metadata": {
    "id": "QBeTmnd_TWnQ"
   },
   "source": [
    "## Adding BOS and EOS at the beginning and ending of the answers respectively."
   ]
  },
  {
   "cell_type": "code",
   "execution_count": null,
   "metadata": {
    "execution": {
     "iopub.execute_input": "2022-05-12T16:03:45.678131Z",
     "iopub.status.busy": "2022-05-12T16:03:45.677051Z",
     "iopub.status.idle": "2022-05-12T16:03:45.707519Z",
     "shell.execute_reply": "2022-05-12T16:03:45.706472Z",
     "shell.execute_reply.started": "2022-05-12T16:03:45.678080Z"
    },
    "id": "wXFmFX1hTWnQ",
    "outputId": "c6fdc1bf-8b81-4316-f860-5b973bcb1c1a"
   },
   "outputs": [
    {
     "name": "stdout",
     "output_type": "stream",
     "text": [
      "<BOS> the thing is cameron i am at the mercy of a <EOS>\n",
      " \n",
      "<BOS> unsolved mystery she used to be really popular when she started <EOS>\n",
      " \n",
      "<BOS> where <EOS>\n",
      " \n",
      "<BOS> i really really really wanna go but i cannot not unless <EOS>\n",
      " \n",
      "<BOS> lesbian no i found a picture of jared leto in one <EOS>\n",
      " \n",
      "--------------------------------------------------------------------------------- \n",
      " \n"
     ]
    }
   ],
   "source": [
    "tagged_answers = [\"<BOS> \" + line + \" <EOS>\" for line in clean_answers]\n",
    "list_head(tagged_answers)"
   ]
  },
  {
   "cell_type": "markdown",
   "metadata": {
    "id": "7L4i_t_5TWnQ"
   },
   "source": [
    "## Using above calculated unique integers to encode questions and answers "
   ]
  },
  {
   "cell_type": "code",
   "execution_count": null,
   "metadata": {
    "execution": {
     "iopub.execute_input": "2022-05-12T16:03:45.709331Z",
     "iopub.status.busy": "2022-05-12T16:03:45.709010Z",
     "iopub.status.idle": "2022-05-12T16:03:45.996691Z",
     "shell.execute_reply": "2022-05-12T16:03:45.995272Z",
     "shell.execute_reply.started": "2022-05-12T16:03:45.709292Z"
    },
    "id": "4_EX9yPCTWnR",
    "outputId": "f8c730f6-3eb5-46a7-bd40-33353cdc58e2"
   },
   "outputs": [
    {
     "name": "stderr",
     "output_type": "stream",
     "text": [
      "[nltk_data] Downloading package stopwords to\n",
      "[nltk_data]     C:\\Users\\chand\\AppData\\Roaming\\nltk_data...\n",
      "[nltk_data]   Package stopwords is already up-to-date!\n"
     ]
    },
    {
     "data": {
      "text/plain": [
       "True"
      ]
     },
     "execution_count": 23,
     "metadata": {},
     "output_type": "execute_result"
    }
   ],
   "source": [
    "nltk.download('stopwords')\n"
   ]
  },
  {
   "cell_type": "code",
   "execution_count": null,
   "metadata": {
    "execution": {
     "iopub.execute_input": "2022-05-12T16:03:45.998905Z",
     "iopub.status.busy": "2022-05-12T16:03:45.998632Z",
     "iopub.status.idle": "2022-05-12T16:03:46.628280Z",
     "shell.execute_reply": "2022-05-12T16:03:46.627270Z",
     "shell.execute_reply.started": "2022-05-12T16:03:45.998866Z"
    },
    "id": "c8tn4gepTWnR"
   },
   "outputs": [],
   "source": [
    "#stopwords_list = stopwords.words('english')\n",
    "encoded_questions = []\n",
    "for question in clean_questions:\n",
    "    temp = []\n",
    "    for word in question.split():\n",
    "        if word not in word_id :\n",
    "            temp.append(word_id['<NULL>'])\n",
    "#         elif word in stopwords_list:\n",
    "#             temp.append(word_id['<STOPWORD>'])\n",
    "        else :\n",
    "            temp.append(word_id[word])\n",
    "    encoded_questions.append(temp)\n",
    "    \n",
    "encoded_answers = []\n",
    "for answer in tagged_answers:\n",
    "    temp = []\n",
    "    for word in answer.split():\n",
    "        if word not in word_id:\n",
    "            temp.append(word_id['<NULL>'])\n",
    "            \n",
    "#         elif word in stopwords_list:\n",
    "#             temp.append(word_id['<STOPWORD>'])\n",
    "           \n",
    "        else:\n",
    "            temp.append(word_id[word])\n",
    "    encoded_answers.append(temp)\n"
   ]
  },
  {
   "cell_type": "code",
   "execution_count": null,
   "metadata": {
    "execution": {
     "iopub.execute_input": "2022-05-12T16:03:46.630115Z",
     "iopub.status.busy": "2022-05-12T16:03:46.629788Z",
     "iopub.status.idle": "2022-05-12T16:03:46.639298Z",
     "shell.execute_reply": "2022-05-12T16:03:46.638499Z",
     "shell.execute_reply.started": "2022-05-12T16:03:46.630070Z"
    },
    "id": "CwCE9lyDTWnR",
    "outputId": "59581d15-7ead-4c4d-8f77-4f1d73a34b2a"
   },
   "outputs": [
    {
     "name": "stdout",
     "output_type": "stream",
     "text": [
      "[3729]\n",
      " \n",
      "[1]\n",
      " \n",
      "[2]\n",
      " \n",
      "[3, 4]\n",
      " \n",
      "[5, 6, 7, 8]\n",
      " \n",
      "--------------------------------------------------------------------------------- \n",
      " \n",
      "[3732, 89, 693, 6, 3729, 10, 59, 376, 89, 3731, 98, 8, 3730]\n",
      " \n",
      "[3732, 3731, 1230, 5, 1382, 21, 307, 165, 2938, 100, 5, 1833, 3730]\n",
      " \n",
      "[3732, 52, 3730]\n",
      " \n",
      "[3732, 10, 165, 165, 165, 3731, 39, 14, 10, 3731, 7, 1783, 3730]\n",
      " \n",
      "[3732, 3731, 13, 10, 833, 8, 1752, 98, 3731, 3731, 240, 225, 3730]\n",
      " \n",
      "--------------------------------------------------------------------------------- \n",
      " \n"
     ]
    }
   ],
   "source": [
    "list_head(encoded_questions)\n",
    "\n",
    "list_head(encoded_answers)"
   ]
  },
  {
   "cell_type": "markdown",
   "metadata": {
    "id": "_yBcWptQTWnR"
   },
   "source": [
    "# Pipe Line"
   ]
  },
  {
   "cell_type": "markdown",
   "metadata": {
    "id": "3qKuOxkeTWnS"
   },
   "source": [
    "![image.png](attachment:image.png)"
   ]
  },
  {
   "cell_type": "code",
   "execution_count": 1,
   "metadata": {},
   "outputs": [
    {
     "name": "stderr",
     "output_type": "stream",
     "text": [
      "'[image.png]' is not recognized as an internal or external command,\n",
      "operable program or batch file.\n"
     ]
    }
   ],
   "source": []
  },
  {
   "cell_type": "markdown",
   "metadata": {},
   "source": [
    "## Syntactic Processing"
   ]
  },
  {
   "cell_type": "markdown",
   "metadata": {},
   "source": [
    "tokens = ['PAD', 'EOS', 'NULL', 'BOS'] #,'STOPWORD>']\n",
    "\n",
    "PAD - padded with 0\n",
    "\n",
    "EOS - End of sentence\n",
    "\n",
    "NULL - word not found\n",
    "\n",
    "BOS - beginning of sentence\n"
   ]
  },
  {
   "cell_type": "markdown",
   "metadata": {},
   "source": [
    "These tokens which we assigned earlier are useful for our model to know the context in which it is predicting the next word\n",
    "\n",
    "\n",
    "For example if our model comes accross BOS i.e. beginning of sentence then it gets to know that it needs to predict a word that is either a noun or article(Since most sentences begin with them) for syntax to be satisfied, In this way Syntactic processing can be improved to some extent, Although Ultimately its upto the model for proper suntax processing\n"
   ]
  },
  {
   "cell_type": "markdown",
   "metadata": {},
   "source": [
    "## Seq2Seq Model (Encoder-Decoder Architecture)"
   ]
  },
  {
   "cell_type": "markdown",
   "metadata": {},
   "source": [
    "Seq2Seq models are used where there is a mapping necessary from a fixed length input to a fixed length output, but length of input and output may differ. This applies to chatbot applicaiton since user input is fixed and output from the chatbot is also fixed and also length of user input and length of chatbot output are not necessarily the same , so we can eastablish the mapping using seq2seq model(Regular LSTM network alone cant address our problem as it can only map each inputword to an output word i.e. input length equal to that of output)Hence we encoder-decoder arcgitecture under seq2seq model"
   ]
  },
  {
   "cell_type": "markdown",
   "metadata": {
    "id": "1k2T7u4VTWnS"
   },
   "source": [
    "## Creating encoder, decoder inputs"
   ]
  },
  {
   "cell_type": "markdown",
   "metadata": {
    "id": "GtENOPr2TWnS"
   },
   "source": [
    "We should not send varying length encoder input and decoder input so we pad the length with zeroes(here we chose maximum length of 15)\n",
    "Here we are first creating padded inputs for encoder and decoder inputs using the lists encoded_questions, encoded_answers generated in preprocessing step. \n",
    "Now, the decoder output is created by removing the first token(tags like 'BOS') of decoder input. this decoder output. Later we convert 2d data to 3d using to_categorical function on decoder_output(Since this is the format expected for LSTM output)\n",
    "    \n",
    "   "
   ]
  },
  {
   "cell_type": "code",
   "execution_count": null,
   "metadata": {
    "id": "EKGv_u9nTWnS"
   },
   "outputs": [],
   "source": [
    "from tensorflow.keras.utils import to_categorical\n",
    "from tensorflow.keras.preprocessing.sequence import pad_sequences\n",
    "from tensorflow.keras.models import Model\n",
    "from tensorflow.keras.layers import Dense, Embedding, LSTM, Input\n"
   ]
  },
  {
   "cell_type": "code",
   "execution_count": null,
   "metadata": {
    "execution": {
     "iopub.execute_input": "2022-05-12T16:03:46.658539Z",
     "iopub.status.busy": "2022-05-12T16:03:46.658204Z",
     "iopub.status.idle": "2022-05-12T16:03:48.956958Z",
     "shell.execute_reply": "2022-05-12T16:03:48.956084Z",
     "shell.execute_reply.started": "2022-05-12T16:03:46.658499Z"
    },
    "id": "SN9JJy8ITWnS"
   },
   "outputs": [],
   "source": [
    "encoder_inp = pad_sequences(encoded_questions, 15,\n",
    "                            dtype = 'int32',\n",
    "                            padding='post',\n",
    "                            truncating='post',\n",
    "                            value=0.0)\n",
    "\n",
    "decoder_inp = pad_sequences(encoded_answers, 15,\n",
    "                            dtype = 'int32',\n",
    "                            padding='post',\n",
    "                            truncating='post',\n",
    "                            value=0.0)\n",
    "\n",
    "\n",
    "decoder_output = pad_sequences([i[1:] for i in decoder_inp], 15,\n",
    "                               dtype = 'int32',\n",
    "                               padding='post',\n",
    "                               truncating='post',\n",
    "                               value=0.0)\n",
    "\n",
    "decoder_final_output = to_categorical(decoder_output, len(word_id), dtype='float32')\n",
    "\n"
   ]
  },
  {
   "cell_type": "markdown",
   "metadata": {
    "id": "9tTuCgZwTWnS"
   },
   "source": [
    "## Creating training model and fitting the model"
   ]
  },
  {
   "attachments": {
    "Untitled%20Diagram.drawio%20%282%29.png": {
     "image/png": "[encoded data removed]"
    }
   },
   "cell_type": "markdown",
   "metadata": {},
   "source": [
    "![Untitled%20Diagram.drawio%20%282%29.png](attachment:Untitled%20Diagram.drawio%20%282%29.png)"
   ]
  },
  {
   "cell_type": "markdown",
   "metadata": {
    "id": "3DyE3nBrTWnS"
   },
   "source": [
    "We will create an encoder LSTM and then then give it embeded input through embedding layer which reduces dimensionality of input. This encoder LSTM will return encoder states which are then passed as input to decoder LSTM along with decoder input. Decoder LSTM is given the initial state as the states output from the encoder_lstm. This decoder LSTM will give decoder output and using this decoder output, we will generate the probabilities. To generate these probabilities we are using softmax function in dense layer."
   ]
  },
  {
   "cell_type": "code",
   "execution_count": null,
   "metadata": {
    "id": "vOqFusiSTWnS"
   },
   "outputs": [],
   "source": [
    "placeholder_enc = Input(shape=(15, ))\n",
    "placeholder_dec = Input(shape=(15, ))\n",
    "\n",
    "\n",
    "\n",
    "embed = Embedding(input_dim= len(word_id)+1,                    #This reduces the dimensionality from input_dim to output_dim\n",
    "                  output_dim=50, \n",
    "                  input_length=15,\n",
    "                  trainable=True)\n",
    "\n",
    "\n",
    "encoder_embed = embed(placeholder_enc)                                  \n",
    "\n",
    "encoder_lstm = LSTM(units=400,                                   #encoder-LSTM layer\n",
    "                activation='tanh',\n",
    "                recurrent_activation='sigmoid',\n",
    "                return_sequences=True, \n",
    "                return_state=True)\n",
    "\n",
    "encoder_output, state1, state2 = encoder_lstm(encoder_embed)         #states of encoder\n",
    "\n",
    "\n",
    "decoder_embed = embed(placeholder_dec)\n",
    "decoder_lstm = LSTM(units=400,                                      \n",
    "                    activation='tanh',\n",
    "                    recurrent_activation='sigmoid',\n",
    "                    return_sequences=True,\n",
    "                    return_state=True)\n",
    "\n",
    "decoder_output, e1, e2 = decoder_lstm(decoder_embed, initial_state=[state1, state2])  #states of encoder adre passed as initial states of decoder lstm\n",
    "\n",
    "dense = Dense(units=len(word_id), activation='softmax', kernel_initializer=\"glorot_uniform\")\n",
    "\n",
    "dense_output = dense(decoder_output)                      # using dense layer to predict probabilities(softmax)\n",
    "model = Model([placeholder_enc, placeholder_dec], dense_output)\n",
    "\n",
    "\n",
    "\n",
    "model.compile(loss='categorical_crossentropy'\n",
    "              ,metrics=['acc']\n",
    "              ,optimizer='adam')\n"
   ]
  },
  {
   "cell_type": "code",
   "execution_count": null,
   "metadata": {
    "execution": {
     "iopub.execute_input": "2022-05-12T16:03:48.970717Z",
     "iopub.status.busy": "2022-05-12T16:03:48.970476Z"
    },
    "id": "C4--m46fTWnT",
    "outputId": "a71e9830-5d76-4181-ffd0-95fa7ccb3db0"
   },
   "outputs": [
    {
     "name": "stdout",
     "output_type": "stream",
     "text": [
      "Epoch 1/15\n",
      "1221/1221 [==============================] - 116s 93ms/step - loss: 2.6824 - acc: 0.5606\n",
      "Epoch 2/15\n",
      "1221/1221 [==============================] - 106s 87ms/step - loss: 2.3722 - acc: 0.5895\n",
      "Epoch 3/15\n",
      "1221/1221 [==============================] - 106s 86ms/step - loss: 2.2720 - acc: 0.5970\n",
      "Epoch 4/15\n",
      "1221/1221 [==============================] - 107s 88ms/step - loss: 2.2093 - acc: 0.6011\n",
      "Epoch 5/15\n",
      "1221/1221 [==============================] - 107s 88ms/step - loss: 2.1577 - acc: 0.6042\n",
      "Epoch 6/15\n",
      "1221/1221 [==============================] - 109s 89ms/step - loss: 2.1124 - acc: 0.6069\n",
      "Epoch 7/15\n",
      "1221/1221 [==============================] - 109s 89ms/step - loss: 2.0683 - acc: 0.6091\n",
      "Epoch 8/15\n",
      "1221/1221 [==============================] - 109s 89ms/step - loss: 2.0278 - acc: 0.6109\n",
      "Epoch 9/15\n",
      "1221/1221 [==============================] - 113s 92ms/step - loss: 1.9926 - acc: 0.6129\n",
      "Epoch 10/15\n",
      "1221/1221 [==============================] - 110s 90ms/step - loss: 1.9562 - acc: 0.6143\n",
      "Epoch 11/15\n",
      "1221/1221 [==============================] - 113s 93ms/step - loss: 1.9189 - acc: 0.6168\n",
      "Epoch 12/15\n",
      "1221/1221 [==============================] - 111s 91ms/step - loss: 1.8843 - acc: 0.6190\n",
      "Epoch 13/15\n",
      "1221/1221 [==============================] - 111s 91ms/step - loss: 1.8491 - acc: 0.6218\n",
      "Epoch 14/15\n",
      "1221/1221 [==============================] - 107s 87ms/step - loss: 1.8148 - acc: 0.6249\n",
      "Epoch 15/15\n",
      "1221/1221 [==============================] - 107s 88ms/step - loss: 1.7821 - acc: 0.6285\n"
     ]
    },
    {
     "data": {
      "text/plain": [
       "<keras.callbacks.History at 0x24f71f21d90>"
      ]
     },
     "execution_count": 32,
     "metadata": {},
     "output_type": "execute_result"
    }
   ],
   "source": [
    "model.fit([encoder_inp, decoder_inp], decoder_final_output,epochs=15)"
   ]
  },
  {
   "cell_type": "code",
   "execution_count": null,
   "metadata": {
    "id": "I_ZZhTJTTWnT",
    "outputId": "96a50b4f-26a0-4696-c40e-c7847a1a0eb0"
   },
   "outputs": [
    {
     "name": "stdout",
     "output_type": "stream",
     "text": [
      "Epoch 1/35\n",
      "1221/1221 [==============================] - 107s 87ms/step - loss: 1.7504 - acc: 0.6320\n",
      "Epoch 2/35\n",
      "1221/1221 [==============================] - 107s 88ms/step - loss: 1.7179 - acc: 0.6356\n",
      "Epoch 3/35\n",
      "1221/1221 [==============================] - 110s 90ms/step - loss: 1.6867 - acc: 0.6398\n",
      "Epoch 4/35\n",
      "1221/1221 [==============================] - 109s 90ms/step - loss: 1.6562 - acc: 0.6438\n",
      "Epoch 5/35\n",
      "1221/1221 [==============================] - 106s 87ms/step - loss: 1.6275 - acc: 0.6483\n",
      "Epoch 6/35\n",
      "1221/1221 [==============================] - 103s 84ms/step - loss: 1.5981 - acc: 0.6523\n",
      "Epoch 7/35\n",
      "1221/1221 [==============================] - 102s 84ms/step - loss: 1.5696 - acc: 0.6568\n",
      "Epoch 8/35\n",
      "1221/1221 [==============================] - 102s 83ms/step - loss: 1.5422 - acc: 0.6613\n",
      "Epoch 9/35\n",
      "1221/1221 [==============================] - 102s 84ms/step - loss: 1.5153 - acc: 0.6654\n",
      "Epoch 10/35\n",
      "1221/1221 [==============================] - 101s 83ms/step - loss: 1.4890 - acc: 0.6700\n",
      "Epoch 11/35\n",
      "1221/1221 [==============================] - 105s 86ms/step - loss: 1.4632 - acc: 0.6745\n",
      "Epoch 12/35\n",
      "1221/1221 [==============================] - 103s 84ms/step - loss: 1.4381 - acc: 0.6791\n",
      "Epoch 13/35\n",
      "1221/1221 [==============================] - 106s 87ms/step - loss: 1.4135 - acc: 0.6831\n",
      "Epoch 14/35\n",
      "1221/1221 [==============================] - 105s 86ms/step - loss: 1.3894 - acc: 0.6881\n",
      "Epoch 15/35\n",
      "1221/1221 [==============================] - 104s 85ms/step - loss: 1.3656 - acc: 0.6923\n",
      "Epoch 16/35\n",
      "1221/1221 [==============================] - 103s 84ms/step - loss: 1.3428 - acc: 0.6967\n",
      "Epoch 17/35\n",
      "1221/1221 [==============================] - 104s 86ms/step - loss: 1.3201 - acc: 0.7011\n",
      "Epoch 18/35\n",
      "1221/1221 [==============================] - 104s 85ms/step - loss: 1.2980 - acc: 0.7052\n",
      "Epoch 19/35\n",
      "1221/1221 [==============================] - 103s 84ms/step - loss: 1.2763 - acc: 0.7097\n",
      "Epoch 20/35\n",
      "1221/1221 [==============================] - 105s 86ms/step - loss: 1.2553 - acc: 0.7136\n",
      "Epoch 21/35\n",
      "1221/1221 [==============================] - 105s 86ms/step - loss: 1.2346 - acc: 0.7179\n",
      "Epoch 22/35\n",
      "1221/1221 [==============================] - 107s 88ms/step - loss: 1.2142 - acc: 0.7221\n",
      "Epoch 23/35\n",
      "1221/1221 [==============================] - 128s 104ms/step - loss: 1.1943 - acc: 0.7264\n",
      "Epoch 24/35\n",
      "1221/1221 [==============================] - 108s 88ms/step - loss: 1.1752 - acc: 0.7300\n",
      "Epoch 25/35\n",
      "1221/1221 [==============================] - 110s 90ms/step - loss: 1.1555 - acc: 0.7341\n",
      "Epoch 26/35\n",
      "1221/1221 [==============================] - 110s 90ms/step - loss: 1.1375 - acc: 0.7380\n",
      "Epoch 27/35\n",
      "1221/1221 [==============================] - 107s 87ms/step - loss: 1.1190 - acc: 0.7418\n",
      "Epoch 28/35\n",
      "1221/1221 [==============================] - 103s 84ms/step - loss: 1.1013 - acc: 0.7461\n",
      "Epoch 29/35\n",
      "1221/1221 [==============================] - 103s 84ms/step - loss: 1.0840 - acc: 0.7495\n",
      "Epoch 30/35\n",
      "1221/1221 [==============================] - 103s 85ms/step - loss: 1.0670 - acc: 0.7534\n",
      "Epoch 31/35\n",
      "1221/1221 [==============================] - 104s 85ms/step - loss: 1.0506 - acc: 0.7564\n",
      "Epoch 32/35\n",
      "1221/1221 [==============================] - 110s 90ms/step - loss: 1.0353 - acc: 0.7601\n",
      "Epoch 33/35\n",
      "1221/1221 [==============================] - 104s 86ms/step - loss: 1.0193 - acc: 0.7635\n",
      "Epoch 34/35\n",
      "1221/1221 [==============================] - 103s 85ms/step - loss: 1.0032 - acc: 0.7672\n",
      "Epoch 35/35\n",
      "1221/1221 [==============================] - 105s 86ms/step - loss: 0.9890 - acc: 0.7704\n"
     ]
    },
    {
     "data": {
      "text/plain": [
       "<keras.callbacks.History at 0x24f787196a0>"
      ]
     },
     "execution_count": 33,
     "metadata": {},
     "output_type": "execute_result"
    }
   ],
   "source": [
    "model.fit([encoder_inp, decoder_inp], decoder_final_output,epochs=35)"
   ]
  },
  {
   "cell_type": "markdown",
   "metadata": {},
   "source": [
    "### We achieve accuracy of 0.77 after running of 50 epochs(35+15)"
   ]
  },
  {
   "cell_type": "markdown",
   "metadata": {},
   "source": [
    "### Saving model that was fit"
   ]
  },
  {
   "cell_type": "markdown",
   "metadata": {},
   "source": [
    "We use model.save from keras to save the already fit model on 50 epochs, Later we use keras.models.load models to retrieve the already fit model back"
   ]
  },
  {
   "cell_type": "code",
   "execution_count": null,
   "metadata": {
    "id": "hGVU2xH6TWnT",
    "outputId": "54882352-0af4-47eb-c89d-b2b1d77fdbe4"
   },
   "outputs": [
    {
     "name": "stderr",
     "output_type": "stream",
     "text": [
      "WARNING:absl:Found untraced functions such as lstm_cell_layer_call_fn, lstm_cell_layer_call_and_return_conditional_losses, lstm_cell_1_layer_call_fn, lstm_cell_1_layer_call_and_return_conditional_losses while saving (showing 4 of 4). These functions will not be directly callable after loading.\n"
     ]
    },
    {
     "name": "stdout",
     "output_type": "stream",
     "text": [
      "INFO:tensorflow:Assets written to: my_model_a\\assets\n"
     ]
    },
    {
     "name": "stderr",
     "output_type": "stream",
     "text": [
      "INFO:tensorflow:Assets written to: my_model_a\\assets\n",
      "WARNING:absl:<keras.layers.recurrent.LSTMCell object at 0x0000024D622013A0> has the same name 'LSTMCell' as a built-in Keras object. Consider renaming <class 'keras.layers.recurrent.LSTMCell'> to avoid naming conflicts when loading with `tf.keras.models.load_model`. If renaming is not possible, pass the object in the `custom_objects` parameter of the load function.\n",
      "WARNING:absl:<keras.layers.recurrent.LSTMCell object at 0x0000024D622AF6D0> has the same name 'LSTMCell' as a built-in Keras object. Consider renaming <class 'keras.layers.recurrent.LSTMCell'> to avoid naming conflicts when loading with `tf.keras.models.load_model`. If renaming is not possible, pass the object in the `custom_objects` parameter of the load function.\n"
     ]
    }
   ],
   "source": [
    "\n",
    "model.save(\"my_model_a\")\n",
    "# reconstructed_model = keras.models.load_model(\"my_model\")\n"
   ]
  },
  {
   "cell_type": "code",
   "execution_count": null,
   "metadata": {
    "id": "NmCU4OoWTWnT"
   },
   "outputs": [],
   "source": [
    "loaded_model = keras.models.load_model(\"my_model\")\n"
   ]
  },
  {
   "cell_type": "markdown",
   "metadata": {},
   "source": [
    "## Semantic Processing"
   ]
  },
  {
   "cell_type": "markdown",
   "metadata": {},
   "source": [
    "1. We collected the Conversation data from the dataset and parsed it in proper way(into questions and answers). And trained model on questions and answers(encoder and decoder), The model clearly knows what the questions are and what the answers are.The model was able to distinguish between questions and answers and do not yield a question as output for a question as input unless it did not understand what exactly the user queried.(Parsing is done at the beginning)\n",
    "\n",
    "2. Dense layer are added to the encoders in seq2seqmodel and We ensure that mapping is done from natural language space to that of natural language space only.\n",
    "\n",
    "3. We used word2indx(word_id) for processing and indx2word(inv_wordid) for retrieval of word bothe these vectors shares same natural language space we search for predictions from these spaces only (Semantic Search)\n",
    "\n",
    "4. Tags like 'NULL', 'STOPWORDS' are used to represent the word not found or word is a stopword symbolically and can be assumed to be belonged to Natural language only.\n",
    "\n",
    "5. Word embeddings are used for the representation of words, (required dimensionality)"
   ]
  },
  {
   "cell_type": "markdown",
   "metadata": {
    "id": "oYu7dICXTWnU"
   },
   "source": [
    "## References\n",
    "1) https://www.tensorflow.org/api_docs/python/tf/keras/preprocessing/sequence/pad_sequences\n",
    "\n",
    "2) https://www.tensorflow.org/api_docs/python/tf/keras/models\n",
    "\n",
    "3) https://www.tensorflow.org/api_docs/python/tf/keras/layers\n",
    "\n",
    "4) https://towardsdatascience.com/understanding-encoder-decoder-sequence-to-sequence-model-679e04af4346"
   ]
  },
  {
   "cell_type": "code",
   "execution_count": null,
   "metadata": {},
   "outputs": [],
   "source": []
  }
 ],
 "metadata": {
  "colab": {
   "name": "Final-Mandate-code.ipynb",
   "provenance": []
  },
  "kernelspec": {
   "display_name": "Python 3 (ipykernel)",
   "language": "python",
   "name": "python3"
  },
  "language_info": {
   "codemirror_mode": {
    "name": "ipython",
    "version": 3
   },
   "file_extension": ".py",
   "mimetype": "text/x-python",
   "name": "python",
   "nbconvert_exporter": "python",
   "pygments_lexer": "ipython3",
   "version": "3.9.7"
  }
 },
 "nbformat": 4,
 "nbformat_minor": 1
}
